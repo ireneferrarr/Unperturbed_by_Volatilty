{
 "cells": [
  {
   "cell_type": "markdown",
   "metadata": {},
   "source": [
    "# A Long-Term Analysis of S&P 500 Returns\n",
    "We will examine the distribution of long-run daily returns of the S&P 500 and demonstrate how they deviate from the assumptions of a normal distribution, highlighting features like fat tails, skewness, and excess kurtosis."
   ]
  },
  {
   "cell_type": "code",
   "execution_count": 21,
   "metadata": {},
   "outputs": [],
   "source": [
    "# Libraries\n",
    "import yfinance as yf\n",
    "import pandas as pd\n",
    "import openpyxl\n",
    "import numpy as np\n",
    "import matplotlib.pyplot as plt"
   ]
  },
  {
   "cell_type": "code",
   "execution_count": null,
   "metadata": {},
   "outputs": [
    {
     "name": "stderr",
     "output_type": "stream",
     "text": [
      "[*********************100%***********************]  1 of 1 completed\n"
     ]
    }
   ],
   "source": [
    "# Data\n",
    "# Collect S&P 500 prices from Yahoo Finance since 1980\n",
    "sp500 = yf.download('^GSPC', start='1980-01-01')\n",
    "# Save to Excel\n",
    "sp500.to_excel('sp500.xlsx', index = True)"
   ]
  },
  {
   "cell_type": "code",
   "execution_count": 17,
   "metadata": {},
   "outputs": [
    {
     "data": {
      "application/vnd.microsoft.datawrangler.viewer.v0+json": {
       "columns": [
        {
         "name": "index",
         "rawType": "int64",
         "type": "integer"
        },
        {
         "name": "Date",
         "rawType": "datetime64[ns]",
         "type": "datetime"
        },
        {
         "name": "Close",
         "rawType": "float64",
         "type": "float"
        },
        {
         "name": "High",
         "rawType": "float64",
         "type": "float"
        },
        {
         "name": "Low",
         "rawType": "float64",
         "type": "float"
        },
        {
         "name": "Open",
         "rawType": "float64",
         "type": "float"
        },
        {
         "name": "Volume",
         "rawType": "int64",
         "type": "integer"
        }
       ],
       "conversionMethod": "pd.DataFrame",
       "ref": "e53ea7d8-617a-4ca4-bbd8-0073fdba0e33",
       "rows": [
        [
         "0",
         "1980-01-02 00:00:00",
         "105.7600021362305",
         "108.4300003051758",
         "105.2900009155273",
         "0.0",
         "40610000"
        ],
        [
         "1",
         "1980-01-03 00:00:00",
         "105.2200012207031",
         "106.0800018310547",
         "103.2600021362305",
         "0.0",
         "50480000"
        ],
        [
         "2",
         "1980-01-04 00:00:00",
         "106.5199966430664",
         "107.0800018310547",
         "105.0899963378906",
         "0.0",
         "39130000"
        ],
        [
         "3",
         "1980-01-07 00:00:00",
         "106.8099975585938",
         "107.8000030517578",
         "105.8000030517578",
         "0.0",
         "44500000"
        ],
        [
         "4",
         "1980-01-08 00:00:00",
         "108.9499969482422",
         "109.2900009155273",
         "106.2900009155273",
         "0.0",
         "53390000"
        ]
       ],
       "shape": {
        "columns": 6,
        "rows": 5
       }
      },
      "text/html": [
       "<div>\n",
       "<style scoped>\n",
       "    .dataframe tbody tr th:only-of-type {\n",
       "        vertical-align: middle;\n",
       "    }\n",
       "\n",
       "    .dataframe tbody tr th {\n",
       "        vertical-align: top;\n",
       "    }\n",
       "\n",
       "    .dataframe thead th {\n",
       "        text-align: right;\n",
       "    }\n",
       "</style>\n",
       "<table border=\"1\" class=\"dataframe\">\n",
       "  <thead>\n",
       "    <tr style=\"text-align: right;\">\n",
       "      <th></th>\n",
       "      <th>Date</th>\n",
       "      <th>Close</th>\n",
       "      <th>High</th>\n",
       "      <th>Low</th>\n",
       "      <th>Open</th>\n",
       "      <th>Volume</th>\n",
       "    </tr>\n",
       "  </thead>\n",
       "  <tbody>\n",
       "    <tr>\n",
       "      <th>0</th>\n",
       "      <td>1980-01-02</td>\n",
       "      <td>105.760002</td>\n",
       "      <td>108.430000</td>\n",
       "      <td>105.290001</td>\n",
       "      <td>0.0</td>\n",
       "      <td>40610000</td>\n",
       "    </tr>\n",
       "    <tr>\n",
       "      <th>1</th>\n",
       "      <td>1980-01-03</td>\n",
       "      <td>105.220001</td>\n",
       "      <td>106.080002</td>\n",
       "      <td>103.260002</td>\n",
       "      <td>0.0</td>\n",
       "      <td>50480000</td>\n",
       "    </tr>\n",
       "    <tr>\n",
       "      <th>2</th>\n",
       "      <td>1980-01-04</td>\n",
       "      <td>106.519997</td>\n",
       "      <td>107.080002</td>\n",
       "      <td>105.089996</td>\n",
       "      <td>0.0</td>\n",
       "      <td>39130000</td>\n",
       "    </tr>\n",
       "    <tr>\n",
       "      <th>3</th>\n",
       "      <td>1980-01-07</td>\n",
       "      <td>106.809998</td>\n",
       "      <td>107.800003</td>\n",
       "      <td>105.800003</td>\n",
       "      <td>0.0</td>\n",
       "      <td>44500000</td>\n",
       "    </tr>\n",
       "    <tr>\n",
       "      <th>4</th>\n",
       "      <td>1980-01-08</td>\n",
       "      <td>108.949997</td>\n",
       "      <td>109.290001</td>\n",
       "      <td>106.290001</td>\n",
       "      <td>0.0</td>\n",
       "      <td>53390000</td>\n",
       "    </tr>\n",
       "  </tbody>\n",
       "</table>\n",
       "</div>"
      ],
      "text/plain": [
       "        Date       Close        High         Low  Open    Volume\n",
       "0 1980-01-02  105.760002  108.430000  105.290001   0.0  40610000\n",
       "1 1980-01-03  105.220001  106.080002  103.260002   0.0  50480000\n",
       "2 1980-01-04  106.519997  107.080002  105.089996   0.0  39130000\n",
       "3 1980-01-07  106.809998  107.800003  105.800003   0.0  44500000\n",
       "4 1980-01-08  108.949997  109.290001  106.290001   0.0  53390000"
      ]
     },
     "execution_count": 17,
     "metadata": {},
     "output_type": "execute_result"
    }
   ],
   "source": [
    "# Load Excel file\n",
    "sp500 = pd.read_excel('sp500.xlsx', engine='openpyxl')\n",
    "# Display\n",
    "sp500.head()"
   ]
  },
  {
   "cell_type": "code",
   "execution_count": 37,
   "metadata": {},
   "outputs": [
    {
     "data": {
      "text/plain": [
       "Text(0.5, 1.0, 'Daily Returns Distribution')"
      ]
     },
     "execution_count": 37,
     "metadata": {},
     "output_type": "execute_result"
    },
    {
     "data": {
      "image/png": "[encoded data removed]",
      "text/plain": [
       "<Figure size 1000x600 with 1 Axes>"
      ]
     },
     "metadata": {},
     "output_type": "display_data"
    }
   ],
   "source": [
    "# PLot daily returns distribution\n",
    "# Isolate prices\n",
    "closing_prices = sp500['Close']\n",
    "# Calculate daily returns\n",
    "daily_returns = np.log(closing_prices / closing_prices.shift(1))\n",
    "# Plot histogram\n",
    "plt.figure(figsize=(10,6))\n",
    "plt.hist(daily_returns[1:], bins=100, density=True, range=(-1,1), alpha=0.6, color='y')\n",
    "plt.title('Daily Returns Distribution')"
   ]
  }
 ],
 "metadata": {
  "kernelspec": {
   "display_name": "Python 3",
   "language": "python",
   "name": "python3"
  },
  "language_info": {
   "codemirror_mode": {
    "name": "ipython",
    "version": 3
   },
   "file_extension": ".py",
   "mimetype": "text/x-python",
   "name": "python",
   "nbconvert_exporter": "python",
   "pygments_lexer": "ipython3",
   "version": "3.12.10"
  }
 },
 "nbformat": 4,
 "nbformat_minor": 2
}
